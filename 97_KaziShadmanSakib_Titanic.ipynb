{
  "nbformat": 4,
  "nbformat_minor": 0,
  "metadata": {
    "colab": {
      "provenance": [],
      "mount_file_id": "1boNl3ESw-O9gq0M43EaXqRjrFBCSZDPJ",
      "authorship_tag": "ABX9TyNCcrYaFYcowiqLKOD0I/LD",
      "include_colab_link": true
    },
    "kernelspec": {
      "name": "python3",
      "display_name": "Python 3"
    },
    "language_info": {
      "name": "python"
    }
  },
  "cells": [
    {
      "cell_type": "markdown",
      "metadata": {
        "id": "view-in-github",
        "colab_type": "text"
      },
      "source": [
        "<a href=\"https://colab.research.google.com/github/KaziShadmanSakib/Artificial-Intelligence/blob/main/97_KaziShadmanSakib_Titanic.ipynb\" target=\"_parent\"><img src=\"https://colab.research.google.com/assets/colab-badge.svg\" alt=\"Open In Colab\"/></a>"
      ]
    },
    {
      "cell_type": "code",
      "source": [
        "# import library functions"
      ],
      "metadata": {
        "id": "APubSm4wvc_P"
      },
      "execution_count": 1121,
      "outputs": []
    },
    {
      "cell_type": "code",
      "source": [
        "import numpy as np # linear algebra\n",
        "import pandas as pd # data processing, CSV file I/O (e.g. pd.read_csv)\n",
        "import os\n",
        "from sklearn.datasets import load_iris\n",
        "from sklearn.linear_model import LogisticRegression\n",
        "from sklearn import preprocessing"
      ],
      "metadata": {
        "id": "_KfIanSVvktU"
      },
      "execution_count": 1122,
      "outputs": []
    },
    {
      "cell_type": "markdown",
      "source": [
        "**Load Train Data and Test Data**\n",
        "\n",
        "**Display Train Data using head() method**\n",
        "\n",
        "\n"
      ],
      "metadata": {
        "id": "QvpMJ4g2v0P1"
      }
    },
    {
      "cell_type": "code",
      "execution_count": 1123,
      "metadata": {
        "id": "-VyIqvDmD0ks",
        "colab": {
          "base_uri": "https://localhost:8080/",
          "height": 357
        },
        "outputId": "e5707500-5acf-4717-84f2-bc5c7ddc5b8b"
      },
      "outputs": [
        {
          "output_type": "stream",
          "name": "stdout",
          "text": [
            "/content/drive/MyDrive/Titanic/train.csv\n",
            "/content/drive/MyDrive/Titanic/gender_submission.csv\n",
            "/content/drive/MyDrive/Titanic/test.csv\n"
          ]
        },
        {
          "output_type": "execute_result",
          "data": {
            "text/plain": [
              "   PassengerId  Survived  Pclass  \\\n",
              "0            1         0       3   \n",
              "1            2         1       1   \n",
              "2            3         1       3   \n",
              "3            4         1       1   \n",
              "4            5         0       3   \n",
              "\n",
              "                                                Name     Sex   Age  SibSp  \\\n",
              "0                            Braund, Mr. Owen Harris    male  22.0      1   \n",
              "1  Cumings, Mrs. John Bradley (Florence Briggs Th...  female  38.0      1   \n",
              "2                             Heikkinen, Miss. Laina  female  26.0      0   \n",
              "3       Futrelle, Mrs. Jacques Heath (Lily May Peel)  female  35.0      1   \n",
              "4                           Allen, Mr. William Henry    male  35.0      0   \n",
              "\n",
              "   Parch            Ticket     Fare Cabin Embarked  \n",
              "0      0         A/5 21171   7.2500   NaN        S  \n",
              "1      0          PC 17599  71.2833   C85        C  \n",
              "2      0  STON/O2. 3101282   7.9250   NaN        S  \n",
              "3      0            113803  53.1000  C123        S  \n",
              "4      0            373450   8.0500   NaN        S  "
            ],
            "text/html": [
              "\n",
              "  <div id=\"df-03e6abee-844b-4916-aee3-020115c90cdf\">\n",
              "    <div class=\"colab-df-container\">\n",
              "      <div>\n",
              "<style scoped>\n",
              "    .dataframe tbody tr th:only-of-type {\n",
              "        vertical-align: middle;\n",
              "    }\n",
              "\n",
              "    .dataframe tbody tr th {\n",
              "        vertical-align: top;\n",
              "    }\n",
              "\n",
              "    .dataframe thead th {\n",
              "        text-align: right;\n",
              "    }\n",
              "</style>\n",
              "<table border=\"1\" class=\"dataframe\">\n",
              "  <thead>\n",
              "    <tr style=\"text-align: right;\">\n",
              "      <th></th>\n",
              "      <th>PassengerId</th>\n",
              "      <th>Survived</th>\n",
              "      <th>Pclass</th>\n",
              "      <th>Name</th>\n",
              "      <th>Sex</th>\n",
              "      <th>Age</th>\n",
              "      <th>SibSp</th>\n",
              "      <th>Parch</th>\n",
              "      <th>Ticket</th>\n",
              "      <th>Fare</th>\n",
              "      <th>Cabin</th>\n",
              "      <th>Embarked</th>\n",
              "    </tr>\n",
              "  </thead>\n",
              "  <tbody>\n",
              "    <tr>\n",
              "      <th>0</th>\n",
              "      <td>1</td>\n",
              "      <td>0</td>\n",
              "      <td>3</td>\n",
              "      <td>Braund, Mr. Owen Harris</td>\n",
              "      <td>male</td>\n",
              "      <td>22.0</td>\n",
              "      <td>1</td>\n",
              "      <td>0</td>\n",
              "      <td>A/5 21171</td>\n",
              "      <td>7.2500</td>\n",
              "      <td>NaN</td>\n",
              "      <td>S</td>\n",
              "    </tr>\n",
              "    <tr>\n",
              "      <th>1</th>\n",
              "      <td>2</td>\n",
              "      <td>1</td>\n",
              "      <td>1</td>\n",
              "      <td>Cumings, Mrs. John Bradley (Florence Briggs Th...</td>\n",
              "      <td>female</td>\n",
              "      <td>38.0</td>\n",
              "      <td>1</td>\n",
              "      <td>0</td>\n",
              "      <td>PC 17599</td>\n",
              "      <td>71.2833</td>\n",
              "      <td>C85</td>\n",
              "      <td>C</td>\n",
              "    </tr>\n",
              "    <tr>\n",
              "      <th>2</th>\n",
              "      <td>3</td>\n",
              "      <td>1</td>\n",
              "      <td>3</td>\n",
              "      <td>Heikkinen, Miss. Laina</td>\n",
              "      <td>female</td>\n",
              "      <td>26.0</td>\n",
              "      <td>0</td>\n",
              "      <td>0</td>\n",
              "      <td>STON/O2. 3101282</td>\n",
              "      <td>7.9250</td>\n",
              "      <td>NaN</td>\n",
              "      <td>S</td>\n",
              "    </tr>\n",
              "    <tr>\n",
              "      <th>3</th>\n",
              "      <td>4</td>\n",
              "      <td>1</td>\n",
              "      <td>1</td>\n",
              "      <td>Futrelle, Mrs. Jacques Heath (Lily May Peel)</td>\n",
              "      <td>female</td>\n",
              "      <td>35.0</td>\n",
              "      <td>1</td>\n",
              "      <td>0</td>\n",
              "      <td>113803</td>\n",
              "      <td>53.1000</td>\n",
              "      <td>C123</td>\n",
              "      <td>S</td>\n",
              "    </tr>\n",
              "    <tr>\n",
              "      <th>4</th>\n",
              "      <td>5</td>\n",
              "      <td>0</td>\n",
              "      <td>3</td>\n",
              "      <td>Allen, Mr. William Henry</td>\n",
              "      <td>male</td>\n",
              "      <td>35.0</td>\n",
              "      <td>0</td>\n",
              "      <td>0</td>\n",
              "      <td>373450</td>\n",
              "      <td>8.0500</td>\n",
              "      <td>NaN</td>\n",
              "      <td>S</td>\n",
              "    </tr>\n",
              "  </tbody>\n",
              "</table>\n",
              "</div>\n",
              "      <button class=\"colab-df-convert\" onclick=\"convertToInteractive('df-03e6abee-844b-4916-aee3-020115c90cdf')\"\n",
              "              title=\"Convert this dataframe to an interactive table.\"\n",
              "              style=\"display:none;\">\n",
              "        \n",
              "  <svg xmlns=\"http://www.w3.org/2000/svg\" height=\"24px\"viewBox=\"0 0 24 24\"\n",
              "       width=\"24px\">\n",
              "    <path d=\"M0 0h24v24H0V0z\" fill=\"none\"/>\n",
              "    <path d=\"M18.56 5.44l.94 2.06.94-2.06 2.06-.94-2.06-.94-.94-2.06-.94 2.06-2.06.94zm-11 1L8.5 8.5l.94-2.06 2.06-.94-2.06-.94L8.5 2.5l-.94 2.06-2.06.94zm10 10l.94 2.06.94-2.06 2.06-.94-2.06-.94-.94-2.06-.94 2.06-2.06.94z\"/><path d=\"M17.41 7.96l-1.37-1.37c-.4-.4-.92-.59-1.43-.59-.52 0-1.04.2-1.43.59L10.3 9.45l-7.72 7.72c-.78.78-.78 2.05 0 2.83L4 21.41c.39.39.9.59 1.41.59.51 0 1.02-.2 1.41-.59l7.78-7.78 2.81-2.81c.8-.78.8-2.07 0-2.86zM5.41 20L4 18.59l7.72-7.72 1.47 1.35L5.41 20z\"/>\n",
              "  </svg>\n",
              "      </button>\n",
              "      \n",
              "  <style>\n",
              "    .colab-df-container {\n",
              "      display:flex;\n",
              "      flex-wrap:wrap;\n",
              "      gap: 12px;\n",
              "    }\n",
              "\n",
              "    .colab-df-convert {\n",
              "      background-color: #E8F0FE;\n",
              "      border: none;\n",
              "      border-radius: 50%;\n",
              "      cursor: pointer;\n",
              "      display: none;\n",
              "      fill: #1967D2;\n",
              "      height: 32px;\n",
              "      padding: 0 0 0 0;\n",
              "      width: 32px;\n",
              "    }\n",
              "\n",
              "    .colab-df-convert:hover {\n",
              "      background-color: #E2EBFA;\n",
              "      box-shadow: 0px 1px 2px rgba(60, 64, 67, 0.3), 0px 1px 3px 1px rgba(60, 64, 67, 0.15);\n",
              "      fill: #174EA6;\n",
              "    }\n",
              "\n",
              "    [theme=dark] .colab-df-convert {\n",
              "      background-color: #3B4455;\n",
              "      fill: #D2E3FC;\n",
              "    }\n",
              "\n",
              "    [theme=dark] .colab-df-convert:hover {\n",
              "      background-color: #434B5C;\n",
              "      box-shadow: 0px 1px 3px 1px rgba(0, 0, 0, 0.15);\n",
              "      filter: drop-shadow(0px 1px 2px rgba(0, 0, 0, 0.3));\n",
              "      fill: #FFFFFF;\n",
              "    }\n",
              "  </style>\n",
              "\n",
              "      <script>\n",
              "        const buttonEl =\n",
              "          document.querySelector('#df-03e6abee-844b-4916-aee3-020115c90cdf button.colab-df-convert');\n",
              "        buttonEl.style.display =\n",
              "          google.colab.kernel.accessAllowed ? 'block' : 'none';\n",
              "\n",
              "        async function convertToInteractive(key) {\n",
              "          const element = document.querySelector('#df-03e6abee-844b-4916-aee3-020115c90cdf');\n",
              "          const dataTable =\n",
              "            await google.colab.kernel.invokeFunction('convertToInteractive',\n",
              "                                                     [key], {});\n",
              "          if (!dataTable) return;\n",
              "\n",
              "          const docLinkHtml = 'Like what you see? Visit the ' +\n",
              "            '<a target=\"_blank\" href=https://colab.research.google.com/notebooks/data_table.ipynb>data table notebook</a>'\n",
              "            + ' to learn more about interactive tables.';\n",
              "          element.innerHTML = '';\n",
              "          dataTable['output_type'] = 'display_data';\n",
              "          await google.colab.output.renderOutput(dataTable, element);\n",
              "          const docLink = document.createElement('div');\n",
              "          docLink.innerHTML = docLinkHtml;\n",
              "          element.appendChild(docLink);\n",
              "        }\n",
              "      </script>\n",
              "    </div>\n",
              "  </div>\n",
              "  "
            ]
          },
          "metadata": {},
          "execution_count": 1123
        }
      ],
      "source": [
        "# name of the files in the folder\n",
        "for dirname, _, filenames in os.walk('/content/drive/MyDrive/Titanic'):\n",
        "    for filename in filenames:\n",
        "        print(os.path.join(dirname, filename))\n",
        "\n",
        "# train data fetched\n",
        "train_data = pd.read_csv(\"/content/drive/MyDrive/Titanic/train.csv\")\n",
        "\n",
        "# test data fetched\n",
        "test_data = pd.read_csv(\"/content/drive/MyDrive/Titanic/test.csv\")\n",
        "\n",
        "# checking the train_data columns\n",
        "train_data.head()"
      ]
    },
    {
      "cell_type": "markdown",
      "source": [
        "**Display Test Data using head() method**"
      ],
      "metadata": {
        "id": "V0JPmpDUwVSg"
      }
    },
    {
      "cell_type": "code",
      "source": [
        "# checking the test_data columns\n",
        "test_data.head()"
      ],
      "metadata": {
        "colab": {
          "base_uri": "https://localhost:8080/",
          "height": 206
        },
        "id": "8rnVjlGpyd_k",
        "outputId": "5f486db2-0d0a-4136-fa6d-33f56121c3b5"
      },
      "execution_count": 1124,
      "outputs": [
        {
          "output_type": "execute_result",
          "data": {
            "text/plain": [
              "   PassengerId  Pclass                                          Name     Sex  \\\n",
              "0          892       3                              Kelly, Mr. James    male   \n",
              "1          893       3              Wilkes, Mrs. James (Ellen Needs)  female   \n",
              "2          894       2                     Myles, Mr. Thomas Francis    male   \n",
              "3          895       3                              Wirz, Mr. Albert    male   \n",
              "4          896       3  Hirvonen, Mrs. Alexander (Helga E Lindqvist)  female   \n",
              "\n",
              "    Age  SibSp  Parch   Ticket     Fare Cabin Embarked  \n",
              "0  34.5      0      0   330911   7.8292   NaN        Q  \n",
              "1  47.0      1      0   363272   7.0000   NaN        S  \n",
              "2  62.0      0      0   240276   9.6875   NaN        Q  \n",
              "3  27.0      0      0   315154   8.6625   NaN        S  \n",
              "4  22.0      1      1  3101298  12.2875   NaN        S  "
            ],
            "text/html": [
              "\n",
              "  <div id=\"df-7d4ac2c5-07e7-4049-be15-a560b7b07dac\">\n",
              "    <div class=\"colab-df-container\">\n",
              "      <div>\n",
              "<style scoped>\n",
              "    .dataframe tbody tr th:only-of-type {\n",
              "        vertical-align: middle;\n",
              "    }\n",
              "\n",
              "    .dataframe tbody tr th {\n",
              "        vertical-align: top;\n",
              "    }\n",
              "\n",
              "    .dataframe thead th {\n",
              "        text-align: right;\n",
              "    }\n",
              "</style>\n",
              "<table border=\"1\" class=\"dataframe\">\n",
              "  <thead>\n",
              "    <tr style=\"text-align: right;\">\n",
              "      <th></th>\n",
              "      <th>PassengerId</th>\n",
              "      <th>Pclass</th>\n",
              "      <th>Name</th>\n",
              "      <th>Sex</th>\n",
              "      <th>Age</th>\n",
              "      <th>SibSp</th>\n",
              "      <th>Parch</th>\n",
              "      <th>Ticket</th>\n",
              "      <th>Fare</th>\n",
              "      <th>Cabin</th>\n",
              "      <th>Embarked</th>\n",
              "    </tr>\n",
              "  </thead>\n",
              "  <tbody>\n",
              "    <tr>\n",
              "      <th>0</th>\n",
              "      <td>892</td>\n",
              "      <td>3</td>\n",
              "      <td>Kelly, Mr. James</td>\n",
              "      <td>male</td>\n",
              "      <td>34.5</td>\n",
              "      <td>0</td>\n",
              "      <td>0</td>\n",
              "      <td>330911</td>\n",
              "      <td>7.8292</td>\n",
              "      <td>NaN</td>\n",
              "      <td>Q</td>\n",
              "    </tr>\n",
              "    <tr>\n",
              "      <th>1</th>\n",
              "      <td>893</td>\n",
              "      <td>3</td>\n",
              "      <td>Wilkes, Mrs. James (Ellen Needs)</td>\n",
              "      <td>female</td>\n",
              "      <td>47.0</td>\n",
              "      <td>1</td>\n",
              "      <td>0</td>\n",
              "      <td>363272</td>\n",
              "      <td>7.0000</td>\n",
              "      <td>NaN</td>\n",
              "      <td>S</td>\n",
              "    </tr>\n",
              "    <tr>\n",
              "      <th>2</th>\n",
              "      <td>894</td>\n",
              "      <td>2</td>\n",
              "      <td>Myles, Mr. Thomas Francis</td>\n",
              "      <td>male</td>\n",
              "      <td>62.0</td>\n",
              "      <td>0</td>\n",
              "      <td>0</td>\n",
              "      <td>240276</td>\n",
              "      <td>9.6875</td>\n",
              "      <td>NaN</td>\n",
              "      <td>Q</td>\n",
              "    </tr>\n",
              "    <tr>\n",
              "      <th>3</th>\n",
              "      <td>895</td>\n",
              "      <td>3</td>\n",
              "      <td>Wirz, Mr. Albert</td>\n",
              "      <td>male</td>\n",
              "      <td>27.0</td>\n",
              "      <td>0</td>\n",
              "      <td>0</td>\n",
              "      <td>315154</td>\n",
              "      <td>8.6625</td>\n",
              "      <td>NaN</td>\n",
              "      <td>S</td>\n",
              "    </tr>\n",
              "    <tr>\n",
              "      <th>4</th>\n",
              "      <td>896</td>\n",
              "      <td>3</td>\n",
              "      <td>Hirvonen, Mrs. Alexander (Helga E Lindqvist)</td>\n",
              "      <td>female</td>\n",
              "      <td>22.0</td>\n",
              "      <td>1</td>\n",
              "      <td>1</td>\n",
              "      <td>3101298</td>\n",
              "      <td>12.2875</td>\n",
              "      <td>NaN</td>\n",
              "      <td>S</td>\n",
              "    </tr>\n",
              "  </tbody>\n",
              "</table>\n",
              "</div>\n",
              "      <button class=\"colab-df-convert\" onclick=\"convertToInteractive('df-7d4ac2c5-07e7-4049-be15-a560b7b07dac')\"\n",
              "              title=\"Convert this dataframe to an interactive table.\"\n",
              "              style=\"display:none;\">\n",
              "        \n",
              "  <svg xmlns=\"http://www.w3.org/2000/svg\" height=\"24px\"viewBox=\"0 0 24 24\"\n",
              "       width=\"24px\">\n",
              "    <path d=\"M0 0h24v24H0V0z\" fill=\"none\"/>\n",
              "    <path d=\"M18.56 5.44l.94 2.06.94-2.06 2.06-.94-2.06-.94-.94-2.06-.94 2.06-2.06.94zm-11 1L8.5 8.5l.94-2.06 2.06-.94-2.06-.94L8.5 2.5l-.94 2.06-2.06.94zm10 10l.94 2.06.94-2.06 2.06-.94-2.06-.94-.94-2.06-.94 2.06-2.06.94z\"/><path d=\"M17.41 7.96l-1.37-1.37c-.4-.4-.92-.59-1.43-.59-.52 0-1.04.2-1.43.59L10.3 9.45l-7.72 7.72c-.78.78-.78 2.05 0 2.83L4 21.41c.39.39.9.59 1.41.59.51 0 1.02-.2 1.41-.59l7.78-7.78 2.81-2.81c.8-.78.8-2.07 0-2.86zM5.41 20L4 18.59l7.72-7.72 1.47 1.35L5.41 20z\"/>\n",
              "  </svg>\n",
              "      </button>\n",
              "      \n",
              "  <style>\n",
              "    .colab-df-container {\n",
              "      display:flex;\n",
              "      flex-wrap:wrap;\n",
              "      gap: 12px;\n",
              "    }\n",
              "\n",
              "    .colab-df-convert {\n",
              "      background-color: #E8F0FE;\n",
              "      border: none;\n",
              "      border-radius: 50%;\n",
              "      cursor: pointer;\n",
              "      display: none;\n",
              "      fill: #1967D2;\n",
              "      height: 32px;\n",
              "      padding: 0 0 0 0;\n",
              "      width: 32px;\n",
              "    }\n",
              "\n",
              "    .colab-df-convert:hover {\n",
              "      background-color: #E2EBFA;\n",
              "      box-shadow: 0px 1px 2px rgba(60, 64, 67, 0.3), 0px 1px 3px 1px rgba(60, 64, 67, 0.15);\n",
              "      fill: #174EA6;\n",
              "    }\n",
              "\n",
              "    [theme=dark] .colab-df-convert {\n",
              "      background-color: #3B4455;\n",
              "      fill: #D2E3FC;\n",
              "    }\n",
              "\n",
              "    [theme=dark] .colab-df-convert:hover {\n",
              "      background-color: #434B5C;\n",
              "      box-shadow: 0px 1px 3px 1px rgba(0, 0, 0, 0.15);\n",
              "      filter: drop-shadow(0px 1px 2px rgba(0, 0, 0, 0.3));\n",
              "      fill: #FFFFFF;\n",
              "    }\n",
              "  </style>\n",
              "\n",
              "      <script>\n",
              "        const buttonEl =\n",
              "          document.querySelector('#df-7d4ac2c5-07e7-4049-be15-a560b7b07dac button.colab-df-convert');\n",
              "        buttonEl.style.display =\n",
              "          google.colab.kernel.accessAllowed ? 'block' : 'none';\n",
              "\n",
              "        async function convertToInteractive(key) {\n",
              "          const element = document.querySelector('#df-7d4ac2c5-07e7-4049-be15-a560b7b07dac');\n",
              "          const dataTable =\n",
              "            await google.colab.kernel.invokeFunction('convertToInteractive',\n",
              "                                                     [key], {});\n",
              "          if (!dataTable) return;\n",
              "\n",
              "          const docLinkHtml = 'Like what you see? Visit the ' +\n",
              "            '<a target=\"_blank\" href=https://colab.research.google.com/notebooks/data_table.ipynb>data table notebook</a>'\n",
              "            + ' to learn more about interactive tables.';\n",
              "          element.innerHTML = '';\n",
              "          dataTable['output_type'] = 'display_data';\n",
              "          await google.colab.output.renderOutput(dataTable, element);\n",
              "          const docLink = document.createElement('div');\n",
              "          docLink.innerHTML = docLinkHtml;\n",
              "          element.appendChild(docLink);\n",
              "        }\n",
              "      </script>\n",
              "    </div>\n",
              "  </div>\n",
              "  "
            ]
          },
          "metadata": {},
          "execution_count": 1124
        }
      ]
    },
    {
      "cell_type": "markdown",
      "source": [
        "**Data Preprocessing and Data Analysis**\n",
        "\n",
        "---\n",
        "\n"
      ],
      "metadata": {
        "id": "6uyQ4DEaDINT"
      }
    },
    {
      "cell_type": "markdown",
      "source": [
        "**Data Analysis on null values of train data**"
      ],
      "metadata": {
        "id": "SWhGZKIKDPDs"
      }
    },
    {
      "cell_type": "code",
      "source": [
        "# visualization of null values in all columns of train data\n",
        "import seaborn as sns\n",
        "\n",
        "sns.heatmap(train_data.isnull(), yticklabels = False, cbar = False)"
      ],
      "metadata": {
        "colab": {
          "base_uri": "https://localhost:8080/",
          "height": 334
        },
        "id": "gwSDLjEtDA-R",
        "outputId": "bc85a39e-41b5-4699-942d-8e592dfa86da"
      },
      "execution_count": 1125,
      "outputs": [
        {
          "output_type": "execute_result",
          "data": {
            "text/plain": [
              "<matplotlib.axes._subplots.AxesSubplot at 0x7f6ce3fd5ca0>"
            ]
          },
          "metadata": {},
          "execution_count": 1125
        },
        {
          "output_type": "display_data",
          "data": {
            "text/plain": [
              "<Figure size 432x288 with 1 Axes>"
            ],
            "image/png": "[encoded data removed]"
          },
          "metadata": {
            "needs_background": "light"
          }
        }
      ]
    },
    {
      "cell_type": "markdown",
      "source": [
        "**Data Analysis on null values of test data**"
      ],
      "metadata": {
        "id": "aVRfKHTEDjQZ"
      }
    },
    {
      "cell_type": "code",
      "source": [
        "# visualization of null values in all columns of test data\n",
        "import seaborn as sns\n",
        "\n",
        "sns.heatmap(test_data.isnull(), yticklabels = False, cbar = False)"
      ],
      "metadata": {
        "colab": {
          "base_uri": "https://localhost:8080/",
          "height": 334
        },
        "id": "6RP9LfUxDgfp",
        "outputId": "6da5281b-8a5d-4e2c-d3b3-5e2bb4894642"
      },
      "execution_count": 1126,
      "outputs": [
        {
          "output_type": "execute_result",
          "data": {
            "text/plain": [
              "<matplotlib.axes._subplots.AxesSubplot at 0x7f6ce3b53e20>"
            ]
          },
          "metadata": {},
          "execution_count": 1126
        },
        {
          "output_type": "display_data",
          "data": {
            "text/plain": [
              "<Figure size 432x288 with 1 Axes>"
            ],
            "image/png": "[encoded data removed]"
          },
          "metadata": {
            "needs_background": "light"
          }
        }
      ]
    },
    {
      "cell_type": "markdown",
      "source": [
        "**Data Preprocessing**"
      ],
      "metadata": {
        "id": "HFpK14sBDupU"
      }
    },
    {
      "cell_type": "markdown",
      "source": [
        "**Delete redundant columns named:**\n",
        "\n",
        "1.   Ticket\n",
        "2.   Name\n",
        "3.   Cabin\n",
        "\n",
        "**And checking for any null data in Train Data**\n",
        "\n"
      ],
      "metadata": {
        "id": "1cUKSYDFwi2g"
      }
    },
    {
      "cell_type": "code",
      "source": [
        "# deleted redundant column named Ticket \n",
        "del train_data[\"Ticket\"]\n",
        "del test_data[\"Ticket\"]\n",
        "# print(train_data.sum())\n",
        "\n",
        "# deleted redundant column named Name \n",
        "del train_data[\"Name\"]\n",
        "del test_data[\"Name\"]\n",
        "# print(train_data.sum())\n",
        "\n",
        "# deleted redundant column named Cabin \n",
        "del train_data[\"Cabin\"]\n",
        "del test_data[\"Cabin\"]\n",
        "# print(train_data.sum())\n",
        "\n",
        "# checking which column has null values\n",
        "train_data.isnull().sum()"
      ],
      "metadata": {
        "colab": {
          "base_uri": "https://localhost:8080/"
        },
        "id": "QWdpFJ5gq9nc",
        "outputId": "67d4a938-df8c-4dba-ae54-7d289e5c6067"
      },
      "execution_count": 1127,
      "outputs": [
        {
          "output_type": "execute_result",
          "data": {
            "text/plain": [
              "PassengerId      0\n",
              "Survived         0\n",
              "Pclass           0\n",
              "Sex              0\n",
              "Age            177\n",
              "SibSp            0\n",
              "Parch            0\n",
              "Fare             0\n",
              "Embarked         2\n",
              "dtype: int64"
            ]
          },
          "metadata": {},
          "execution_count": 1127
        }
      ]
    },
    {
      "cell_type": "markdown",
      "source": [
        "**Data Analysis**\n",
        "\n",
        "---\n",
        "\n"
      ],
      "metadata": {
        "id": "kos0j_x03R_w"
      }
    },
    {
      "cell_type": "markdown",
      "source": [
        "**Visualizing the null values in all columns of train data**"
      ],
      "metadata": {
        "id": "9Em-KU_CxN-7"
      }
    },
    {
      "cell_type": "code",
      "source": [
        "# visualization of null values in all columns of train data\n",
        "import seaborn as sns\n",
        "\n",
        "sns.heatmap(train_data.isnull(), yticklabels = False, cbar = False)"
      ],
      "metadata": {
        "colab": {
          "base_uri": "https://localhost:8080/",
          "height": 334
        },
        "id": "QiaJDwWezM3E",
        "outputId": "5b8a2220-7b1a-43bd-b33c-2db7ea4bb095"
      },
      "execution_count": 1128,
      "outputs": [
        {
          "output_type": "execute_result",
          "data": {
            "text/plain": [
              "<matplotlib.axes._subplots.AxesSubplot at 0x7f6ce3b53fd0>"
            ]
          },
          "metadata": {},
          "execution_count": 1128
        },
        {
          "output_type": "display_data",
          "data": {
            "text/plain": [
              "<Figure size 432x288 with 1 Axes>"
            ],
            "image/png": "[encoded data removed]"
          },
          "metadata": {
            "needs_background": "light"
          }
        }
      ]
    },
    {
      "cell_type": "markdown",
      "source": [
        "**Visualizing Survived (1) and Not Survived (0) ratio using countplot**"
      ],
      "metadata": {
        "id": "vKQPHVXzxTZy"
      }
    },
    {
      "cell_type": "code",
      "source": [
        "# visualization of column Survived to check survived vs not survived ratio\n",
        "sns.countplot(x = \"Survived\", data = train_data)"
      ],
      "metadata": {
        "colab": {
          "base_uri": "https://localhost:8080/",
          "height": 297
        },
        "id": "UENfmXEezOub",
        "outputId": "ff84a428-6aa7-4320-ea56-1aa1cef0dd50"
      },
      "execution_count": 1129,
      "outputs": [
        {
          "output_type": "execute_result",
          "data": {
            "text/plain": [
              "<matplotlib.axes._subplots.AxesSubplot at 0x7f6ce3a76670>"
            ]
          },
          "metadata": {},
          "execution_count": 1129
        },
        {
          "output_type": "display_data",
          "data": {
            "text/plain": [
              "<Figure size 432x288 with 1 Axes>"
            ],
            "image/png": "[encoded data removed]"
          },
          "metadata": {
            "needs_background": "light"
          }
        }
      ]
    },
    {
      "cell_type": "markdown",
      "source": [
        "**Visualizing Survived column for checking survived vs not survived ratio depending on men and women (gender)**"
      ],
      "metadata": {
        "id": "RYifQDaxxfpC"
      }
    },
    {
      "cell_type": "code",
      "source": [
        "# visualization of column Survived to check survived vs not survived ratio on men and women\n",
        "sns.countplot(x = \"Survived\", hue=\"Sex\" , data = train_data)"
      ],
      "metadata": {
        "colab": {
          "base_uri": "https://localhost:8080/",
          "height": 297
        },
        "id": "S3nkEEASzVZQ",
        "outputId": "efd81cd5-604a-40ac-be20-d16108a803eb"
      },
      "execution_count": 1130,
      "outputs": [
        {
          "output_type": "execute_result",
          "data": {
            "text/plain": [
              "<matplotlib.axes._subplots.AxesSubplot at 0x7f6ce3a45cd0>"
            ]
          },
          "metadata": {},
          "execution_count": 1130
        },
        {
          "output_type": "display_data",
          "data": {
            "text/plain": [
              "<Figure size 432x288 with 1 Axes>"
            ],
            "image/png": "[encoded data removed]"
          },
          "metadata": {
            "needs_background": "light"
          }
        }
      ]
    },
    {
      "cell_type": "markdown",
      "source": [
        "**Visualizing Survived column for checking survived vs not survived ratio depending on Pclass**"
      ],
      "metadata": {
        "id": "fySG4wExxq28"
      }
    },
    {
      "cell_type": "code",
      "source": [
        "# visualization of column Survived to check survived vs not survived ratio on pclass\n",
        "sns.countplot(x = \"Survived\", hue=\"Pclass\" , data = train_data)"
      ],
      "metadata": {
        "colab": {
          "base_uri": "https://localhost:8080/",
          "height": 297
        },
        "id": "DdlOOWg9zYPc",
        "outputId": "87b1dbfb-8fdf-41b0-cb0a-78c68994c684"
      },
      "execution_count": 1131,
      "outputs": [
        {
          "output_type": "execute_result",
          "data": {
            "text/plain": [
              "<matplotlib.axes._subplots.AxesSubplot at 0x7f6ce3a200a0>"
            ]
          },
          "metadata": {},
          "execution_count": 1131
        },
        {
          "output_type": "display_data",
          "data": {
            "text/plain": [
              "<Figure size 432x288 with 1 Axes>"
            ],
            "image/png": "[encoded data removed]"
          },
          "metadata": {
            "needs_background": "light"
          }
        }
      ]
    },
    {
      "cell_type": "markdown",
      "source": [
        "**Visualizing frequency distribution of Age column**"
      ],
      "metadata": {
        "id": "vt0nrHPqx02K"
      }
    },
    {
      "cell_type": "code",
      "source": [
        "# visualizing age frequency\n",
        "sns.displot(train_data['Age'].dropna())"
      ],
      "metadata": {
        "colab": {
          "base_uri": "https://localhost:8080/",
          "height": 387
        },
        "id": "y4S3jUvWzc7k",
        "outputId": "f3620593-1d4e-4d58-af4d-0ccf4798b284"
      },
      "execution_count": 1132,
      "outputs": [
        {
          "output_type": "execute_result",
          "data": {
            "text/plain": [
              "<seaborn.axisgrid.FacetGrid at 0x7f6ce3a45f70>"
            ]
          },
          "metadata": {},
          "execution_count": 1132
        },
        {
          "output_type": "display_data",
          "data": {
            "text/plain": [
              "<Figure size 360x360 with 1 Axes>"
            ],
            "image/png": "[encoded data removed]"
          },
          "metadata": {
            "needs_background": "light"
          }
        }
      ]
    },
    {
      "cell_type": "markdown",
      "source": [
        "**Visualizing frequency distribution of SibSp column**"
      ],
      "metadata": {
        "id": "OQ7F3NrZx9yP"
      }
    },
    {
      "cell_type": "code",
      "source": [
        "#visualizing SibSp frequency\n",
        "sns.countplot(x = 'SibSp', data = train_data)"
      ],
      "metadata": {
        "colab": {
          "base_uri": "https://localhost:8080/",
          "height": 297
        },
        "id": "jKDYD-akzkHw",
        "outputId": "40e42f46-3c19-4949-b5b7-32537efc7601"
      },
      "execution_count": 1133,
      "outputs": [
        {
          "output_type": "execute_result",
          "data": {
            "text/plain": [
              "<matplotlib.axes._subplots.AxesSubplot at 0x7f6ce397f790>"
            ]
          },
          "metadata": {},
          "execution_count": 1133
        },
        {
          "output_type": "display_data",
          "data": {
            "text/plain": [
              "<Figure size 432x288 with 1 Axes>"
            ],
            "image/png": "[encoded data removed]"
          },
          "metadata": {
            "needs_background": "light"
          }
        }
      ]
    },
    {
      "cell_type": "markdown",
      "source": [
        "**Visualizing frequency distribution of Fare column**"
      ],
      "metadata": {
        "id": "YwiQgW_dyIVQ"
      }
    },
    {
      "cell_type": "code",
      "source": [
        "# visualizing fare frequency\n",
        "train_data['Fare'].hist(bins = 40)"
      ],
      "metadata": {
        "colab": {
          "base_uri": "https://localhost:8080/",
          "height": 285
        },
        "id": "zBXPzqctzpt8",
        "outputId": "715b3558-9461-4418-e28e-615adc588d19"
      },
      "execution_count": 1134,
      "outputs": [
        {
          "output_type": "execute_result",
          "data": {
            "text/plain": [
              "<matplotlib.axes._subplots.AxesSubplot at 0x7f6ce38c0610>"
            ]
          },
          "metadata": {},
          "execution_count": 1134
        },
        {
          "output_type": "display_data",
          "data": {
            "text/plain": [
              "<Figure size 432x288 with 1 Axes>"
            ],
            "image/png": "[encoded data removed]"
          },
          "metadata": {
            "needs_background": "light"
          }
        }
      ]
    },
    {
      "cell_type": "markdown",
      "source": [
        "**Box plot of Age vs Pclass columns**"
      ],
      "metadata": {
        "id": "zwSDrAycyKi3"
      }
    },
    {
      "cell_type": "code",
      "source": [
        "# box plot of Age vs Pclass\n",
        "import matplotlib.pyplot as plt\n",
        "\n",
        "plt.figure(figsize = (12, 8))\n",
        "sns.boxplot(x = \"Pclass\", y = \"Age\", data = train_data)"
      ],
      "metadata": {
        "colab": {
          "base_uri": "https://localhost:8080/",
          "height": 515
        },
        "id": "Q2xrD-41ztS9",
        "outputId": "188cdc04-34af-4d39-96b2-bf4d719f238a"
      },
      "execution_count": 1135,
      "outputs": [
        {
          "output_type": "execute_result",
          "data": {
            "text/plain": [
              "<matplotlib.axes._subplots.AxesSubplot at 0x7f6ce37f0a60>"
            ]
          },
          "metadata": {},
          "execution_count": 1135
        },
        {
          "output_type": "display_data",
          "data": {
            "text/plain": [
              "<Figure size 864x576 with 1 Axes>"
            ],
            "image/png": "[encoded data removed]"
          },
          "metadata": {
            "needs_background": "light"
          }
        }
      ]
    },
    {
      "cell_type": "markdown",
      "source": [
        "**Description of Age Column**"
      ],
      "metadata": {
        "id": "boFgdBkHGb08"
      }
    },
    {
      "cell_type": "code",
      "source": [
        "train_data[\"Age\"].describe()"
      ],
      "metadata": {
        "colab": {
          "base_uri": "https://localhost:8080/"
        },
        "id": "xGvZQ5xpFeFV",
        "outputId": "50853486-2116-4d5b-cd6a-a9d3ac94b47c"
      },
      "execution_count": 1136,
      "outputs": [
        {
          "output_type": "execute_result",
          "data": {
            "text/plain": [
              "count    714.000000\n",
              "mean      29.699118\n",
              "std       14.526497\n",
              "min        0.420000\n",
              "25%       20.125000\n",
              "50%       28.000000\n",
              "75%       38.000000\n",
              "max       80.000000\n",
              "Name: Age, dtype: float64"
            ]
          },
          "metadata": {},
          "execution_count": 1136
        }
      ]
    },
    {
      "cell_type": "markdown",
      "source": [
        "**Feature Engineering on null values of Age column**"
      ],
      "metadata": {
        "id": "qWPmpwkgySAP"
      }
    },
    {
      "cell_type": "code",
      "source": [
        "# Feature Engineering on Age of null data, based on pclass\n",
        "# pclass 1 == 38.000000\n",
        "# pclass 2 == 28.000000\n",
        "# pclass 3 == 20.125000\n",
        "def ageEngineering(cols):\n",
        "  age = cols[0]\n",
        "  pclass = cols[1]\n",
        "\n",
        "  if pd.isnull(age):\n",
        "    if pclass == 1:\n",
        "      return 38.000000\n",
        "    elif pclass == 2:\n",
        "      return 28.000000\n",
        "    else:\n",
        "      return 20.125000\n",
        "  else:\n",
        "    return age\n",
        "\n",
        "# feature engineering of Age based on Pclass\n",
        "train_data['Age'] = train_data[['Age', \"Pclass\"]].apply(ageEngineering, axis = 1)\n",
        "test_data['Age'] = test_data[['Age', \"Pclass\"]].apply(ageEngineering, axis = 1)"
      ],
      "metadata": {
        "id": "vbgNCTNDp5lx"
      },
      "execution_count": 1137,
      "outputs": []
    },
    {
      "cell_type": "markdown",
      "source": [
        "**Checking if there is any more null values in train data**"
      ],
      "metadata": {
        "id": "5Ze1xZroyYxZ"
      }
    },
    {
      "cell_type": "code",
      "source": [
        "# checking if there is any other null values\n",
        "train_data.isnull().sum()"
      ],
      "metadata": {
        "colab": {
          "base_uri": "https://localhost:8080/"
        },
        "id": "ZX5oo5TL0nUn",
        "outputId": "4916ee4b-da9b-4dc0-f07a-d3ad13079983"
      },
      "execution_count": 1138,
      "outputs": [
        {
          "output_type": "execute_result",
          "data": {
            "text/plain": [
              "PassengerId    0\n",
              "Survived       0\n",
              "Pclass         0\n",
              "Sex            0\n",
              "Age            0\n",
              "SibSp          0\n",
              "Parch          0\n",
              "Fare           0\n",
              "Embarked       2\n",
              "dtype: int64"
            ]
          },
          "metadata": {},
          "execution_count": 1138
        }
      ]
    },
    {
      "cell_type": "markdown",
      "source": [
        "**Checking if there is any null values in test data**\n"
      ],
      "metadata": {
        "id": "szF1ndZMzJAq"
      }
    },
    {
      "cell_type": "code",
      "source": [
        "# checking if there is any null values in test data\n",
        "test_data.isnull().sum()"
      ],
      "metadata": {
        "colab": {
          "base_uri": "https://localhost:8080/"
        },
        "id": "wB-E4mFtzINz",
        "outputId": "0a83caa8-5e71-4304-921a-68e3af84cc55"
      },
      "execution_count": 1139,
      "outputs": [
        {
          "output_type": "execute_result",
          "data": {
            "text/plain": [
              "PassengerId    0\n",
              "Pclass         0\n",
              "Sex            0\n",
              "Age            0\n",
              "SibSp          0\n",
              "Parch          0\n",
              "Fare           1\n",
              "Embarked       0\n",
              "dtype: int64"
            ]
          },
          "metadata": {},
          "execution_count": 1139
        }
      ]
    },
    {
      "cell_type": "markdown",
      "source": [
        "**Box plot of Fare vs Pclass columns**"
      ],
      "metadata": {
        "id": "Nb6eP5pSyd-P"
      }
    },
    {
      "cell_type": "code",
      "source": [
        "# box plot of Fare vs Pclass\n",
        "import matplotlib.pyplot as plt\n",
        "\n",
        "plt.figure(figsize = (12, 8))\n",
        "sns.boxplot(x = \"Pclass\", y = \"Fare\", data = train_data)"
      ],
      "metadata": {
        "colab": {
          "base_uri": "https://localhost:8080/",
          "height": 515
        },
        "id": "zyygJ3HB2QTZ",
        "outputId": "37aed9dd-2035-48eb-ce3b-5bd663f59ea6"
      },
      "execution_count": 1140,
      "outputs": [
        {
          "output_type": "execute_result",
          "data": {
            "text/plain": [
              "<matplotlib.axes._subplots.AxesSubplot at 0x7f6ce38eab50>"
            ]
          },
          "metadata": {},
          "execution_count": 1140
        },
        {
          "output_type": "display_data",
          "data": {
            "text/plain": [
              "<Figure size 864x576 with 1 Axes>"
            ],
            "image/png": "[encoded data removed]"
          },
          "metadata": {
            "needs_background": "light"
          }
        }
      ]
    },
    {
      "cell_type": "markdown",
      "source": [
        "**Description of Fare column**"
      ],
      "metadata": {
        "id": "kZ-7iOfDFO9G"
      }
    },
    {
      "cell_type": "code",
      "source": [
        "train_data[\"Fare\"].describe()"
      ],
      "metadata": {
        "colab": {
          "base_uri": "https://localhost:8080/"
        },
        "id": "WUs5jvdeCyZk",
        "outputId": "51a0a69e-4fc3-4ce0-fc52-581176666e3d"
      },
      "execution_count": 1141,
      "outputs": [
        {
          "output_type": "execute_result",
          "data": {
            "text/plain": [
              "count    891.000000\n",
              "mean      32.204208\n",
              "std       49.693429\n",
              "min        0.000000\n",
              "25%        7.910400\n",
              "50%       14.454200\n",
              "75%       31.000000\n",
              "max      512.329200\n",
              "Name: Fare, dtype: float64"
            ]
          },
          "metadata": {},
          "execution_count": 1141
        }
      ]
    },
    {
      "cell_type": "markdown",
      "source": [
        "**Feature Engineering on null values of Fare column as there is null values in fare column in test data**"
      ],
      "metadata": {
        "id": "8k3wh_SUykUm"
      }
    },
    {
      "cell_type": "code",
      "source": [
        "# Feature Engineering on fare of null data, based on pclass\n",
        "# pclass 1 == 31.000000\n",
        "# pclass 2 == 14.454200\n",
        "# pclass 3 == 7.910400\n",
        "def fareEngineering(cols):\n",
        "  fare = cols[0]\n",
        "  pclass = cols[1]\n",
        "\n",
        "  if pd.isnull(fare):\n",
        "    if pclass == 1:\n",
        "      return 31.000000\n",
        "    elif pclass == 2:\n",
        "      return 14.454200\n",
        "    else:\n",
        "      return 7.910400\n",
        "  else:\n",
        "    return fare\n",
        "\n",
        "# feature engineering of Age based on Pclass\n",
        "train_data['Fare'] = train_data[['Fare', \"Pclass\"]].apply(fareEngineering, axis = 1)\n",
        "test_data['Fare'] = test_data[['Fare', \"Pclass\"]].apply(fareEngineering, axis = 1)"
      ],
      "metadata": {
        "id": "4ZvbUMSGD5dF"
      },
      "execution_count": 1142,
      "outputs": []
    },
    {
      "cell_type": "markdown",
      "source": [
        "**Preprocessing Sex and Age column data to numeric data**"
      ],
      "metadata": {
        "id": "opKzAmiECZuq"
      }
    },
    {
      "cell_type": "code",
      "source": [
        "# Preprocess Sex and Age column data to numeric data\n",
        "le = preprocessing.LabelEncoder()\n",
        "columns = [\"Sex\", \"Embarked\"]\n",
        "\n",
        "for col in columns:\n",
        "    train_data[col] = le.fit_transform(train_data[col])\n",
        "    test_data[col] = le.transform(test_data[col])\n",
        "      \n",
        "train_data.head(5)"
      ],
      "metadata": {
        "colab": {
          "base_uri": "https://localhost:8080/",
          "height": 206
        },
        "id": "uyVjvt3N6sij",
        "outputId": "e841338e-2be7-491b-98df-79b14fa6f0e2"
      },
      "execution_count": 1143,
      "outputs": [
        {
          "output_type": "execute_result",
          "data": {
            "text/plain": [
              "   PassengerId  Survived  Pclass  Sex   Age  SibSp  Parch     Fare  Embarked\n",
              "0            1         0       3    1  22.0      1      0   7.2500         2\n",
              "1            2         1       1    0  38.0      1      0  71.2833         0\n",
              "2            3         1       3    0  26.0      0      0   7.9250         2\n",
              "3            4         1       1    0  35.0      1      0  53.1000         2\n",
              "4            5         0       3    1  35.0      0      0   8.0500         2"
            ],
            "text/html": [
              "\n",
              "  <div id=\"df-d047a2f7-8996-4cee-bd3b-fd74a4b7c54b\">\n",
              "    <div class=\"colab-df-container\">\n",
              "      <div>\n",
              "<style scoped>\n",
              "    .dataframe tbody tr th:only-of-type {\n",
              "        vertical-align: middle;\n",
              "    }\n",
              "\n",
              "    .dataframe tbody tr th {\n",
              "        vertical-align: top;\n",
              "    }\n",
              "\n",
              "    .dataframe thead th {\n",
              "        text-align: right;\n",
              "    }\n",
              "</style>\n",
              "<table border=\"1\" class=\"dataframe\">\n",
              "  <thead>\n",
              "    <tr style=\"text-align: right;\">\n",
              "      <th></th>\n",
              "      <th>PassengerId</th>\n",
              "      <th>Survived</th>\n",
              "      <th>Pclass</th>\n",
              "      <th>Sex</th>\n",
              "      <th>Age</th>\n",
              "      <th>SibSp</th>\n",
              "      <th>Parch</th>\n",
              "      <th>Fare</th>\n",
              "      <th>Embarked</th>\n",
              "    </tr>\n",
              "  </thead>\n",
              "  <tbody>\n",
              "    <tr>\n",
              "      <th>0</th>\n",
              "      <td>1</td>\n",
              "      <td>0</td>\n",
              "      <td>3</td>\n",
              "      <td>1</td>\n",
              "      <td>22.0</td>\n",
              "      <td>1</td>\n",
              "      <td>0</td>\n",
              "      <td>7.2500</td>\n",
              "      <td>2</td>\n",
              "    </tr>\n",
              "    <tr>\n",
              "      <th>1</th>\n",
              "      <td>2</td>\n",
              "      <td>1</td>\n",
              "      <td>1</td>\n",
              "      <td>0</td>\n",
              "      <td>38.0</td>\n",
              "      <td>1</td>\n",
              "      <td>0</td>\n",
              "      <td>71.2833</td>\n",
              "      <td>0</td>\n",
              "    </tr>\n",
              "    <tr>\n",
              "      <th>2</th>\n",
              "      <td>3</td>\n",
              "      <td>1</td>\n",
              "      <td>3</td>\n",
              "      <td>0</td>\n",
              "      <td>26.0</td>\n",
              "      <td>0</td>\n",
              "      <td>0</td>\n",
              "      <td>7.9250</td>\n",
              "      <td>2</td>\n",
              "    </tr>\n",
              "    <tr>\n",
              "      <th>3</th>\n",
              "      <td>4</td>\n",
              "      <td>1</td>\n",
              "      <td>1</td>\n",
              "      <td>0</td>\n",
              "      <td>35.0</td>\n",
              "      <td>1</td>\n",
              "      <td>0</td>\n",
              "      <td>53.1000</td>\n",
              "      <td>2</td>\n",
              "    </tr>\n",
              "    <tr>\n",
              "      <th>4</th>\n",
              "      <td>5</td>\n",
              "      <td>0</td>\n",
              "      <td>3</td>\n",
              "      <td>1</td>\n",
              "      <td>35.0</td>\n",
              "      <td>0</td>\n",
              "      <td>0</td>\n",
              "      <td>8.0500</td>\n",
              "      <td>2</td>\n",
              "    </tr>\n",
              "  </tbody>\n",
              "</table>\n",
              "</div>\n",
              "      <button class=\"colab-df-convert\" onclick=\"convertToInteractive('df-d047a2f7-8996-4cee-bd3b-fd74a4b7c54b')\"\n",
              "              title=\"Convert this dataframe to an interactive table.\"\n",
              "              style=\"display:none;\">\n",
              "        \n",
              "  <svg xmlns=\"http://www.w3.org/2000/svg\" height=\"24px\"viewBox=\"0 0 24 24\"\n",
              "       width=\"24px\">\n",
              "    <path d=\"M0 0h24v24H0V0z\" fill=\"none\"/>\n",
              "    <path d=\"M18.56 5.44l.94 2.06.94-2.06 2.06-.94-2.06-.94-.94-2.06-.94 2.06-2.06.94zm-11 1L8.5 8.5l.94-2.06 2.06-.94-2.06-.94L8.5 2.5l-.94 2.06-2.06.94zm10 10l.94 2.06.94-2.06 2.06-.94-2.06-.94-.94-2.06-.94 2.06-2.06.94z\"/><path d=\"M17.41 7.96l-1.37-1.37c-.4-.4-.92-.59-1.43-.59-.52 0-1.04.2-1.43.59L10.3 9.45l-7.72 7.72c-.78.78-.78 2.05 0 2.83L4 21.41c.39.39.9.59 1.41.59.51 0 1.02-.2 1.41-.59l7.78-7.78 2.81-2.81c.8-.78.8-2.07 0-2.86zM5.41 20L4 18.59l7.72-7.72 1.47 1.35L5.41 20z\"/>\n",
              "  </svg>\n",
              "      </button>\n",
              "      \n",
              "  <style>\n",
              "    .colab-df-container {\n",
              "      display:flex;\n",
              "      flex-wrap:wrap;\n",
              "      gap: 12px;\n",
              "    }\n",
              "\n",
              "    .colab-df-convert {\n",
              "      background-color: #E8F0FE;\n",
              "      border: none;\n",
              "      border-radius: 50%;\n",
              "      cursor: pointer;\n",
              "      display: none;\n",
              "      fill: #1967D2;\n",
              "      height: 32px;\n",
              "      padding: 0 0 0 0;\n",
              "      width: 32px;\n",
              "    }\n",
              "\n",
              "    .colab-df-convert:hover {\n",
              "      background-color: #E2EBFA;\n",
              "      box-shadow: 0px 1px 2px rgba(60, 64, 67, 0.3), 0px 1px 3px 1px rgba(60, 64, 67, 0.15);\n",
              "      fill: #174EA6;\n",
              "    }\n",
              "\n",
              "    [theme=dark] .colab-df-convert {\n",
              "      background-color: #3B4455;\n",
              "      fill: #D2E3FC;\n",
              "    }\n",
              "\n",
              "    [theme=dark] .colab-df-convert:hover {\n",
              "      background-color: #434B5C;\n",
              "      box-shadow: 0px 1px 3px 1px rgba(0, 0, 0, 0.15);\n",
              "      filter: drop-shadow(0px 1px 2px rgba(0, 0, 0, 0.3));\n",
              "      fill: #FFFFFF;\n",
              "    }\n",
              "  </style>\n",
              "\n",
              "      <script>\n",
              "        const buttonEl =\n",
              "          document.querySelector('#df-d047a2f7-8996-4cee-bd3b-fd74a4b7c54b button.colab-df-convert');\n",
              "        buttonEl.style.display =\n",
              "          google.colab.kernel.accessAllowed ? 'block' : 'none';\n",
              "\n",
              "        async function convertToInteractive(key) {\n",
              "          const element = document.querySelector('#df-d047a2f7-8996-4cee-bd3b-fd74a4b7c54b');\n",
              "          const dataTable =\n",
              "            await google.colab.kernel.invokeFunction('convertToInteractive',\n",
              "                                                     [key], {});\n",
              "          if (!dataTable) return;\n",
              "\n",
              "          const docLinkHtml = 'Like what you see? Visit the ' +\n",
              "            '<a target=\"_blank\" href=https://colab.research.google.com/notebooks/data_table.ipynb>data table notebook</a>'\n",
              "            + ' to learn more about interactive tables.';\n",
              "          element.innerHTML = '';\n",
              "          dataTable['output_type'] = 'display_data';\n",
              "          await google.colab.output.renderOutput(dataTable, element);\n",
              "          const docLink = document.createElement('div');\n",
              "          docLink.innerHTML = docLinkHtml;\n",
              "          element.appendChild(docLink);\n",
              "        }\n",
              "      </script>\n",
              "    </div>\n",
              "  </div>\n",
              "  "
            ]
          },
          "metadata": {},
          "execution_count": 1143
        }
      ]
    },
    {
      "cell_type": "markdown",
      "source": [
        "**Data Modeling**\n",
        "\n",
        "---\n",
        "\n"
      ],
      "metadata": {
        "id": "4nxw_QFp3_5I"
      }
    },
    {
      "cell_type": "markdown",
      "source": [
        "1.   Choose column named Survived for prediction.\n",
        "2.   Choose features (independent variables) which will be used to train and test data.\n",
        "3.   Create dummies to fit the Logistic Regression model to train data with survived data.\n",
        "4.   Checking model score using train data and prediction variable.\n",
        "\n"
      ],
      "metadata": {
        "id": "QPjDUEAsyoAS"
      }
    },
    {
      "cell_type": "code",
      "source": [
        "# Prediction on Survived data\n",
        "y = train_data[\"Survived\"]\n",
        "\n",
        "# features that will be used to train and test data\n",
        "features = [\"Pclass\", \"Sex\", \"Age\" , \"SibSp\", \"Parch\", \"Fare\", \"Embarked\"]\n",
        "\n",
        "# dummies of train data and test data with features\n",
        "X = pd.get_dummies(train_data[features])\n",
        "X_test = pd.get_dummies(test_data[features])\n",
        "\n",
        "# training model with X to y and predicting y with test data\n",
        "model = LogisticRegression(random_state=0, max_iter=1000).fit(X, y)\n",
        "\n",
        "# prediction score on train data\n",
        "print(model.score(X, y))"
      ],
      "metadata": {
        "colab": {
          "base_uri": "https://localhost:8080/"
        },
        "id": "0PiR39oo0jel",
        "outputId": "66eac2bc-02cd-421c-a958-4cc6c64d6bbb"
      },
      "execution_count": 1144,
      "outputs": [
        {
          "output_type": "stream",
          "name": "stdout",
          "text": [
            "0.8069584736251403\n"
          ]
        }
      ]
    },
    {
      "cell_type": "markdown",
      "source": [
        "**Prediction on Test Data for Submission**"
      ],
      "metadata": {
        "id": "2two3tlq0MgV"
      }
    },
    {
      "cell_type": "code",
      "source": [
        "# Prediction on Test Data\n",
        "\n",
        "predictions = model.predict(X_test)\n",
        "output = pd.DataFrame({'PassengerId': test_data.PassengerId, 'Survived': predictions})\n",
        "output.to_csv('submission.csv', index=False)\n",
        "print(\"Your submission was successfully saved!\")"
      ],
      "metadata": {
        "colab": {
          "base_uri": "https://localhost:8080/"
        },
        "id": "Pi8QHB4w0Djv",
        "outputId": "7374ce0a-03c4-459e-9fa7-125f9719bf14"
      },
      "execution_count": 1145,
      "outputs": [
        {
          "output_type": "stream",
          "name": "stdout",
          "text": [
            "Your submission was successfully saved!\n"
          ]
        }
      ]
    }
  ]
}